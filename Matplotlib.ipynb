{
 "cells": [
  {
   "cell_type": "markdown",
   "metadata": {},
   "source": [
    "# Matplotlib\n",
    "\n",
    "## Introduction\n",
    "\n",
    "Matplotlib is a library for producing publication-quality figures. mpl (for short) was designed from the beginning to serve two purposes:\n",
    "\n",
    "1. Allow for interactive, cross-platform control of figures and plots\n",
    "2. make it easy to produce static raster or vector graphics files without the need for any GUIs.\n",
    "\n",
    "Matplotlib was primarily desinged to be used with Matlab, but later as popularity of Python surpassed Matlab, it was ported to Python.\n",
    "\n",
    "Furthermore, mpl -- much like Python itself -- gives the developer complete control over the appearance of their plots, while still being very usable through a powerful defaults system.\n",
    "\n",
    "## Installation\n",
    "\n",
    "We can install matplotlib using conda as: \n",
    "```bash\n",
    "conda install matplotlib\n",
    "```\n",
    "or using PyPI as : \n",
    "```bash\n",
    "pip install matplotlib\n",
    "```    \n",
    "At the time of writing this notebook, Matplotlib was in _v 3.0.2_\n",
    "\n",
    "## Online Documentation\n",
    "\n",
    "Though we are going to understand matplotlib in this notebook, for your further references, you must use the official Matplotlib documentations at [matplotlib official site](http://matplotlib.org/). You can also refer the galleries there along with the [API documentations](http://matplotlib.org/api/index.html).\n",
    "\n",
    "\n",
    "## Github repository\n",
    "### Location\n",
    "[Matplotlib](https://github.com/matplotlib) is hosted by GitHub.\n",
    "\n",
    "### Bug Reports and feature requests\n",
    "\n",
    "So, you think you found a bug? Or maybe you think some feature is just too difficult to use? Or missing altogether? Submit your bug reports here at Matplotlib's issue tracker. \n",
    "\n",
    "## \"Backends\" and Jupyter notebooks\n",
    "\n",
    "Matplotlib has multiple \"backends\" that handle converting Matplotlib's in-memory representation of your plot into the colorful output you can look at. This is done either by writing files (e.g., png, svg, pdf) that you can use an external tool to look at or by embedding into your GUI toolkit of choice (Qt, Tk, Wx, etc).\n",
    "\n",
    "To check what backend Matplotlib is currently using:\n"
   ]
  },
  {
   "cell_type": "code",
   "execution_count": 2,
   "metadata": {},
   "outputs": [
    {
     "name": "stdout",
     "output_type": "stream",
     "text": [
      "3.0.2\n",
      "module://ipykernel.pylab.backend_inline\n"
     ]
    }
   ],
   "source": [
    "import matplotlib\n",
    "print(matplotlib.__version__)\n",
    "print(matplotlib.get_backend())"
   ]
  },
  {
   "cell_type": "markdown",
   "metadata": {},
   "source": [
    "At times you might encounter the line ` %matplotlib inline ` in few notebooks which forces the matplotlib backend to produce plots in Jupyter notebook itself rather than forming a new frame. This now seems obselete and has been removed. So you don't need to use the inline mathod anymore."
   ]
  },
  {
   "cell_type": "markdown",
   "metadata": {},
   "source": [
    "## Anatomy of plot\n",
    "\n",
    "Anatomy of a \"Plot\"\n",
    "People use \"plot\" to mean many different things. Here, we'll be using a consistent terminology (mirrored by the names of the underlying classes, etc):\n",
    "\n",
    "\n",
    "![Plot frame](https://nbviewer.jupyter.org/github/matplotlib/AnatomyOfMatplotlib/blob/master/images/figure_axes_axis_labeled.png)\n",
    "\n",
    "The _Figure_ is the top-level container in this hierarchy. It is the overall window/page that everything is drawn on. You can have multiple independent figures and Figures can contain multiple Axes.\n",
    "\n",
    "Most plotting ocurs on an Axes. The axes is effectively the area that we plot data on and any ticks/labels/etc associated with it. Usually we'll set up an Axes with a call to subplot (which places Axes on a regular grid), so in most cases, Axes and Subplot are synonymous.\n",
    "\n",
    "Each _Axes_ has an _XAxis_ and a _YAxis_. These contain the ticks, tick locations, labels, etc. In this tutorial, we'll mostly control ticks, tick labels, and data limits through other mechanisms, so we won't touch the individual _Axis_ part of things all that much. However, it is worth mentioning here to explain where the term _Axes_ comes from."
   ]
  },
  {
   "cell_type": "markdown",
   "metadata": {},
   "source": [
    "## Getting Started\n",
    "\n",
    "In this tutorial, we'll use the following import statements. These abbreviations are semi-standardized, and most tutorials, other scientific python code that you'll find elsewhere will use them as well."
   ]
  },
  {
   "cell_type": "code",
   "execution_count": 5,
   "metadata": {},
   "outputs": [],
   "source": [
    "from matplotlib import pyplot as plt\n",
    "\n",
    "\n",
    "# Additional imports\n",
    "import numpy as np"
   ]
  },
  {
   "cell_type": "code",
   "execution_count": 10,
   "metadata": {},
   "outputs": [],
   "source": [
    "a=np.array([[0., 0., 0., 0., 0., 0., 0., 0., 0., 0., 0., 0., 0., 0., 0., 0., 0., 0., 0., 0., 0., 0., 0., 0., 0., 0., 0., 0.],\n",
    "[0., 0., 0., 0., 0., 0., 0., 0., 0., 0., 0., 0., 0., 0., 0., 0., 0., 0., 0., 0., 0., 0., 0., 0., 0., 0., 0., 0.],\n",
    "[0., 0., 0., 0., 0., 0., 0., 0., 0., 0., 0., 0., 0., 0., 0., 0., 0., 0., 0., 0., 0., 0., 0., 0., 0., 0., 0., 0.],\n",
    "[0., 0., 0., 0., 0., 0., 0., 0., 0., 0., 0., 0., 0., 0., 0., 0., 0., 0., 0., 0., 0., 0., 0., 0., 0., 0., 0., 0.],\n",
    "[0., 0., 0., 0., 0., 0., 0., 0., 0., 0., 0., 0., 0., 0., 0.00784314, 0.4, 0.7529412 , 0.67058825, 0.59607846, 0.3372549 , 0.00392157, 0., 0., 0., 0., 0., 0., 0.],\n",
    "[0., 0., 0., 0., 0., 0., 0., 0., 0., 0., 0., 0., 0., 0.01176471, 0.52156866, 0.99607843, 0.99607843, 0.99607843, 0.99607843, 0.99607843, 0.40392157, 0.00784314, 0., 0., 0., 0., 0., 0.],\n",
    "[0., 0., 0., 0., 0., 0., 0., 0., 0., 0., 0., 0., 0.01568628, 0.5176471 , 0.99607843, 0.99607843, 0.99607843, 0.99607843, 0.99607843, 0.99607843, 0.96862745, 0.09019608, 0., 0., 0., 0., 0., 0.],\n",
    "[0., 0., 0., 0., 0., 0., 0., 0., 0., 0., 0., 0.01960784, 0.5137255 , 0.99607843, 0.99607843, 0.99607843, 0.96862745, 0.92941177, 0.9647059 , 0.72156864, 0.2509804 , 0., 0., 0., 0., 0., 0., 0.],\n",
    "[0., 0., 0., 0., 0., 0., 0., 0., 0., 0., 0., 0.23529412, 0.99607843, 0.99607843, 0.96862745, 0.74509805, 0.27450982, 0.1254902 , 0.25490198, 0., 0., 0., 0., 0., 0., 0., 0., 0.],\n",
    "[0., 0., 0., 0., 0., 0., 0., 0., 0., 0., 0.09411765, 0.8745098 , 0.99607843, 0.54509807, 0.27450982, 0., 0., 0., 0., 0., 0., 0., 0., 0., 0., 0., 0., 0.],\n",
    "[0., 0., 0., 0., 0., 0., 0., 0., 0., 0., 0.23137255, 0.99607843, 0.8666667 , 0.09803922, 0., 0., 0., 0., 0., 0., 0., 0., 0., 0., 0., 0., 0., 0.],\n",
    "[0., 0., 0., 0., 0., 0., 0., 0., 0., 0.02745098, 0.7058824 , 0.99607843, 0.8392157 , 0.19607843, 0.5529412 , 0.68235296, 0.5411765 , 0.19607843, 0.03529412, 0., 0., 0., 0., 0., 0., 0., 0., 0.],\n",
    "[0., 0., 0., 0., 0., 0., 0., 0., 0., 0.23137255, 0.99607843, 0.99607843, 0.99607843, 0.99607843, 0.99607843, 0.99607843, 0.99607843, 0.99607843, 0.5882353 , 0.03137255, 0., 0., 0., 0., 0., 0., 0., 0.],\n",
    "[0., 0., 0., 0., 0., 0., 0., 0., 0., 0.6117647 , 0.99607843, 0.99607843, 0.99607843, 0.99607843, 0.99607843, 0.99607843, 0.99607843, 0.99607843, 0.99607843, 0.38431373, 0., 0., 0., 0., 0., 0., 0., 0.],\n",
    "[0., 0., 0., 0., 0., 0., 0., 0., 0.07450981, 0.90588236, 0.99607843, 0.99607843, 0.99607843, 0.69803923, 0.24313726, 0.37254903, 0.9411765 , 0.99607843, 0.90588236, 0.10588235, 0., 0., 0., 0., 0., 0., 0., 0.],\n",
    "[0., 0., 0., 0., 0., 0., 0., 0., 0.4862745 , 0.99607843, 0.99607843, 0.99607843, 0.7019608 , 0.0627451 , 0., 0.08235294, 0.84705883, 0.99607843, 0.654902  , 0., 0., 0., 0., 0., 0., 0., 0., 0.],\n",
    "[0., 0., 0., 0., 0., 0., 0., 0., 0.58431375, 0.99607843, 0.99607843, 0.94509804, 0.21568628, 0., 0., 0.27058825, 0.99607843, 0.99607843, 0.2627451 , 0., 0., 0., 0., 0., 0., 0., 0., 0.],\n",
    "[0., 0., 0., 0., 0., 0., 0., 0., 0.58431375, 0.99607843, 0.9254902 , 0.25490198, 0., 0., 0., 0.27058825, 0.99607843, 0.99607843, 0.16862746, 0., 0., 0., 0., 0., 0., 0., 0., 0.],\n",
    "[0., 0., 0., 0., 0., 0., 0., 0., 0.58431375, 0.99607843, 0.94509804, 0.21568628, 0., 0., 0., 0.6862745 , 0.99607843, 0.99607843, 0.16862746, 0., 0., 0., 0., 0., 0., 0., 0., 0.],\n",
    "[0., 0., 0., 0., 0., 0., 0., 0., 0.58431375, 0.99607843, 0.9098039 , 0.13333334, 0., 0., 0.09803922, 0.8509804 , 0.99607843, 0.99607843, 0.16862746, 0., 0., 0., 0., 0., 0., 0., 0., 0.],\n",
    "[0., 0., 0., 0., 0., 0., 0., 0., 0.14509805, 0.99607843, 0.99607843, 0.8509804 , 0.13333334, 0.09411765, 0.79607844, 0.99607843, 0.99607843, 0.99607843, 0.16862746, 0., 0., 0., 0., 0., 0., 0., 0., 0.],\n",
    "[0., 0., 0., 0., 0., 0., 0., 0., 0.05490196, 0.827451  , 0.99607843, 0.99607843, 0.9490196 , 0.94509804, 0.99607843, 0.99607843, 0.99607843, 0.49019608, 0.01176471, 0., 0., 0., 0., 0., 0., 0., 0., 0.],\n",
    "[0., 0., 0., 0., 0., 0., 0., 0., 0., 0.6117647 , 0.99607843, 0.99607843, 0.99607843, 0.99607843, 0.99607843, 0.99607843, 0.49411765, 0.01176471, 0., 0., 0., 0., 0., 0., 0., 0., 0., 0.],\n",
    "[0., 0., 0., 0., 0., 0., 0., 0., 0., 0.07450981, 0.81960785, 1., 1., 0.99607843, 0.99607843, 0.49803922, 0.00784314, 0., 0., 0., 0., 0., 0., 0., 0., 0., 0., 0.],\n",
    "[0., 0., 0., 0., 0., 0., 0., 0., 0., 0., 0., 0., 0., 0., 0., 0., 0., 0., 0., 0., 0., 0., 0., 0., 0., 0., 0., 0.], \n",
    "[0., 0., 0., 0., 0., 0., 0., 0., 0., 0., 0., 0., 0., 0., 0., 0., 0., 0., 0., 0., 0., 0., 0., 0., 0., 0., 0., 0.],\n",
    "[0., 0., 0., 0., 0., 0., 0., 0., 0., 0., 0., 0., 0., 0., 0., 0., 0., 0., 0., 0., 0., 0., 0., 0., 0., 0., 0., 0.],\n",
    "[0., 0., 0., 0., 0., 0., 0., 0., 0., 0., 0., 0., 0., 0., 0., 0., 0., 0., 0., 0., 0., 0., 0., 0., 0., 0., 0., 0.]] , dtype=np.float32)\n",
    "\n",
    "b=b=np.array([[0., 0., 0., 0., 0., 0., 0., 0., 0., 0., 0., 0., 0., 0., 0., 0., 0., 0., 0., 0., 0., 0., 0., 0., 0., 0., 0., 0.],       \n",
    "[0., 0., 0., 0., 0., 0., 0., 0., 0., 0., 0., 0., 0., 0., 0., 0., 0., 0., 0., 0., 0., 0., 0., 0., 0., 0., 0., 0.],       \n",
    "[0., 0., 0., 0., 0., 0., 0., 0., 0., 0., 0., 0., 0., 0., 0., 0., 0., 0., 0., 0., 0., 0., 0., 0., 0., 0., 0., 0.],       \n",
    "[0., 0., 0., 0., 0., 0., 0., 0., 0., 0., 0., 0., 0., 0., 0., 0., 0., 0., 0., 0., 0., 0., 0., 0., 0., 0., 0., 0.],       \n",
    "[0., 0., 0., 0., 0., 0., 0., 0., 0., 0., 0., 0., 0., 0., 0.41960785, 0.9019608 , 0.5686275 , 0.03137255, 0., 0., 0., 0., 0., 0., 0., 0., 0., 0.],       \n",
    "[0., 0., 0., 0., 0., 0., 0., 0., 0., 0., 0., 0., 0., 0.09803922, 0.8666667 , 0.99607843, 0.99607843, 0.8235294 , 0.13333334, 0., 0., 0., 0., 0., 0., 0., 0., 0.],       \n",
    "[0., 0., 0., 0., 0., 0., 0., 0., 0., 0., 0., 0., 0., 0.34509805, 0.99607843, 0.99607843, 0.99607843, 0.99607843, 0.84313726, 0.1254902 , 0., 0., 0., 0., 0., 0., 0., 0.],       \n",
    "[0., 0., 0., 0., 0., 0., 0., 0., 0., 0., 0., 0.08627451, 0.5882353 , 0.92941177, 0.99607843, 0.99607843, 0.99607843, 0.99607843, 0.99607843, 0.8235294 , 0., 0., 0., 0., 0., 0., 0., 0.],       \n",
    "[0., 0., 0., 0., 0., 0., 0., 0., 0., 0., 0.11372549, 0.7137255 , 0.99607843, 0.99607843, 0.7176471 , 0.48235294, 0.56078434, 0.61960787, 0.99607843, 0.9764706 , 0.1764706 , 0., 0., 0., 0., 0., 0., 0.],       \n",
    "[0., 0., 0., 0., 0., 0., 0., 0., 0., 0.07058824, 0.7607843 , 0.99607843, 0.9411765 , 0.5019608 , 0., 0., 0., 0.03529412, 0.8352941 , 0.99607843, 0.3254902 , 0., 0., 0., 0., 0., 0., 0.],       \n",
    "[0., 0., 0., 0., 0., 0., 0., 0., 0.01960784, 0.654902  , 0.99607843, 0.92941177, 0.22352941, 0., 0., 0., 0., 0., 0.5529412 , 0.99607843, 0.20392157, 0., 0., 0., 0., 0., 0., 0.],       \n",
    "[0., 0., 0., 0., 0., 0., 0., 0., 0.45882353, 0.99607843, 0.9647059 , 0.30588236, 0., 0., 0., 0., 0., 0.08627451, 0.91764706, 0.8901961 , 0.05098039, 0., 0., 0., 0., 0., 0., 0.],       \n",
    "[0., 0., 0., 0., 0., 0., 0., 0.41568628, 0.95686275, 0.99607843, 0.41960785, 0., 0., 0., 0., 0., 0.10588235, 0.74509805, 0.9882353 , 0.4745098 , 0., 0., 0., 0., 0., 0., 0., 0.],       \n",
    "[0., 0., 0., 0., 0., 0., 0.16862746, 0.9647059 , 0.99607843, 0.8980392 , 0.0627451 , 0., 0., 0., 0., 0.3137255 , 0.8666667 , 0.99607843, 0.7019608 , 0., 0., 0., 0., 0., 0., 0., 0., 0.],       \n",
    "[0., 0., 0., 0., 0., 0., 0.24313726, 0.99607843, 0.99607843, 0.99607843, 0.99607843, 0.99607843, 1., 0.8784314 , 0.7647059 , 0.99607843, 0.99607843, 0.85490197, 0.04313726, 0., 0., 0., 0., 0., 0., 0., 0., 0.],       \n",
    "[0., 0., 0., 0., 0., 0., 0.00784314, 0.41568628, 0.7647059 , 0.99607843, 0.99607843, 0.99607843, 0.99607843, 0.99607843, 0.99607843, 0.99607843, 0.99607843, 0.99607843, 0.96862745, 0.6313726 , 0.05882353, 0., 0., 0., 0., 0., 0., 0.],       \n",
    "[0., 0., 0., 0., 0., 0., 0., 0., 0.01176471, 0.06666667, 0.06666667, 0.654902  , 0.99607843, 0.99607843, 0.92156863, 0.42352942, 0.49411765, 0.7529412 , 0.9607843 , 0.99607843, 0.60784316, 0., 0., 0., 0., 0., 0., 0.],       \n",
    "[0., 0., 0., 0., 0., 0., 0., 0., 0., 0.03137255, 0.63529414, 0.972549  , 0.9019608 , 0.32941177, 0.07058824, 0., 0., 0., 0.3647059 , 0.99607843, 0.8901961 , 0., 0., 0., 0., 0., 0., 0.],       \n",
    "[0., 0., 0., 0., 0., 0., 0., 0., 0.15294118, 0.7019608 , 0.99607843, 0.8980392 , 0.18039216, 0., 0., 0., 0., 0., 0.4117647 , 0.99607843, 0.7137255 , 0., 0., 0., 0., 0., 0., 0.],       \n",
    "[0., 0., 0., 0., 0., 0., 0., 0., 0.5647059 , 0.99607843, 0.8980392 , 0.18431373, 0., 0., 0., 0., 0., 0.10196079, 0.9254902 , 0.9764706 , 0.35686275, 0., 0., 0., 0., 0., 0., 0.],       \n",
    "[0., 0., 0., 0., 0., 0., 0., 0., 0.85882354, 0.99607843, 0.39607844, 0., 0., 0., 0., 0., 0.10980392, 0.6784314 , 0.99607843, 0.81960785, 0., 0., 0., 0., 0., 0., 0., 0.],       \n",
    "[0., 0., 0., 0., 0., 0., 0., 0., 0.8352941 , 0.99607843, 0.6509804 , 0.27450982, 0.07058824, 0.07058824, 0.07058824, 0.38039216, 0.8156863 , 0.99607843, 0.8980392 , 0.18431373, 0., 0., 0., 0., 0., 0., 0., 0.],       \n",
    "[0., 0., 0., 0., 0., 0., 0., 0., 0.32156864, 0.9019608 , 0.9882353 , 0.99607843, 0.99607843, 0.99607843, 0.99607843, 0.99607843, 0.99607843, 0.8901961 , 0.18039216, 0., 0., 0., 0., 0., 0., 0., 0., 0.],       \n",
    "[0., 0., 0., 0., 0., 0., 0., 0., 0., 0., 0.4       , 0.7921569 , 0.99607843, 0.99607843, 0.77254903, 0.6509804 , 0.4509804 , 0.03137255, 0., 0., 0., 0., 0., 0., 0., 0., 0., 0.],       \n",
    "[0., 0., 0., 0., 0., 0., 0., 0., 0., 0., 0., 0., 0., 0., 0., 0., 0., 0., 0., 0., 0., 0., 0., 0., 0., 0., 0., 0.],       \n",
    "[0., 0., 0., 0., 0., 0., 0., 0., 0., 0., 0., 0., 0., 0., 0., 0., 0., 0., 0., 0., 0., 0., 0., 0., 0., 0., 0., 0.],       \n",
    "[0., 0., 0., 0., 0., 0., 0., 0., 0., 0., 0., 0., 0., 0., 0., 0., 0., 0., 0., 0., 0., 0., 0., 0., 0., 0., 0., 0.],       \n",
    "[0., 0., 0., 0., 0., 0., 0., 0., 0., 0., 0., 0., 0., 0., 0., 0., 0., 0., 0., 0., 0., 0., 0., 0., 0., 0., 0., 0.]], dtype=np.float32)"
   ]
  },
  {
   "cell_type": "markdown",
   "metadata": {},
   "source": [
    "Let's simply try to plot the "
   ]
  },
  {
   "cell_type": "code",
   "execution_count": null,
   "metadata": {},
   "outputs": [],
   "source": []
  },
  {
   "cell_type": "code",
   "execution_count": null,
   "metadata": {},
   "outputs": [],
   "source": []
  },
  {
   "cell_type": "code",
   "execution_count": null,
   "metadata": {},
   "outputs": [],
   "source": []
  }
 ],
 "metadata": {
  "kernelspec": {
   "display_name": "Python 3",
   "language": "python",
   "name": "python3"
  },
  "language_info": {
   "codemirror_mode": {
    "name": "ipython",
    "version": 3
   },
   "file_extension": ".py",
   "mimetype": "text/x-python",
   "name": "python",
   "nbconvert_exporter": "python",
   "pygments_lexer": "ipython3",
   "version": "3.6.7"
  }
 },
 "nbformat": 4,
 "nbformat_minor": 2
}

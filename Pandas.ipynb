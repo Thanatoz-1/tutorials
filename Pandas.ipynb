{
 "cells": [
  {
   "cell_type": "markdown",
   "metadata": {},
   "source": [
    "# Pandas\n",
    "pandas is an open source, BSD-licensed library providing high-performance, easy-to-use data structures and data analysis tools for the Python programming language.\n",
    "\n",
    "## Installing Pandas\n",
    "\n",
    "Using Anaconda, we can install pandas as follows: \n",
    "```bash\n",
    "conda install pandas\n",
    "```\n",
    "else using PyPI, we are going to install it as \n",
    "```bash\n",
    "pip install pandas\n",
    "```\n",
    "\n",
    "At the time of writing this notebook, the pandas was in _v 0.24_ and if you want to install this specific version, then you can pass the version flag as follows: \n",
    "```bash\n",
    "conda install pandas==0.24\n",
    "```\n",
    "\n",
    "## What problem does pandas solve?\n",
    "\n",
    "Python has long been great for data munging and preparation, but less so for data analysis and modeling. pandas helps fill this gap, enabling you to carry out your entire data analysis workflow in Python without having to switch to a more domain specific language like R.\n",
    "\n",
    "Combined with the excellent IPython toolkit and other libraries, the environment for doing data analysis in Python excels in performance, productivity, and the ability to collaborate.\n",
    "\n",
    "pandas does not implement significant modeling functionality outside of linear and panel regression; for this, look to statsmodels and scikit-learn. More work is still needed to make Python a first class statistical modeling environment, but we are well on our way toward that goal.\n",
    "\n",
    "\n"
   ]
  },
  {
   "cell_type": "markdown",
   "metadata": {},
   "source": [
    "## Importing pandas"
   ]
  },
  {
   "cell_type": "code",
   "execution_count": 1,
   "metadata": {},
   "outputs": [],
   "source": [
    "import pandas as pd\n",
    "\n",
    "#  Additional libraries\n",
    "import numpy as np"
   ]
  },
  {
   "cell_type": "markdown",
   "metadata": {},
   "source": [
    "## Pandas Datatypes\n",
    "\n",
    "### Series\n",
    "\n",
    "[**Series**](https://pandas.pydata.org/pandas-docs/stable/reference/api/pandas.Series.html#pandas.Series) is a one-dimensional labeled array capable of holding any data type (integers, strings, floating point numbers, Python objects, etc.). The axis labels are collectively referred to as the index. The basic method to create a Series is to call:\n",
    "```python\n",
    "s = pd.Series(data, index=index)\n",
    "```    \n",
    "Here, data can be a *list* or a *numpy array*. and the index has to be something that works as primary key to address the value in the cell. "
   ]
  },
  {
   "cell_type": "code",
   "execution_count": 2,
   "metadata": {},
   "outputs": [
    {
     "name": "stdout",
     "output_type": "stream",
     "text": [
      "Labels: ['a', 'b', 'c']\n",
      "My data: [10, 20, 30]\n",
      "Dictionary: {'a': 10, 'b': 20, 'c': 30}\n"
     ]
    }
   ],
   "source": [
    "labels = ['a','b','c']\n",
    "my_data = [10,20,30]\n",
    "arr = np.array(my_data)\n",
    "d = {'a':10,'b':20,'c':30}\n",
    "\n",
    "print (\"Labels:\", labels)\n",
    "print(\"My data:\", my_data)\n",
    "print(\"Dictionary:\", d)"
   ]
  },
  {
   "cell_type": "code",
   "execution_count": 3,
   "metadata": {},
   "outputs": [
    {
     "name": "stdout",
     "output_type": "stream",
     "text": [
      "0    10\n",
      "1    20\n",
      "2    30\n",
      "dtype: int64\n"
     ]
    }
   ],
   "source": [
    "s1=pd.Series(data=my_data)\n",
    "print(s1)"
   ]
  },
  {
   "cell_type": "code",
   "execution_count": 4,
   "metadata": {},
   "outputs": [
    {
     "name": "stdout",
     "output_type": "stream",
     "text": [
      "0    10\n",
      "1    20\n",
      "2    30\n",
      "dtype: int64\n"
     ]
    }
   ],
   "source": [
    "s1=pd.Series(data=my_data)\n",
    "print(s1)"
   ]
  },
  {
   "cell_type": "code",
   "execution_count": 5,
   "metadata": {},
   "outputs": [
    {
     "name": "stdout",
     "output_type": "stream",
     "text": [
      "a    10\n",
      "b    20\n",
      "c    30\n",
      "dtype: int64\n"
     ]
    }
   ],
   "source": [
    "s3=pd.Series(arr, labels)\n",
    "print(s3)"
   ]
  },
  {
   "cell_type": "code",
   "execution_count": 6,
   "metadata": {},
   "outputs": [
    {
     "name": "stdout",
     "output_type": "stream",
     "text": [
      "a    10\n",
      "b    20\n",
      "c    30\n",
      "dtype: int64\n"
     ]
    }
   ],
   "source": [
    "s4=pd.Series(d)\n",
    "print(s4)"
   ]
  },
  {
   "cell_type": "code",
   "execution_count": 7,
   "metadata": {},
   "outputs": [
    {
     "name": "stdout",
     "output_type": "stream",
     "text": [
      "\n",
      "Holding numerical data\n",
      "-------------------------\n",
      "0    10\n",
      "1    20\n",
      "2    30\n",
      "dtype: int64\n",
      "\n",
      "Holding text labels\n",
      "--------------------\n",
      "0    a\n",
      "1    b\n",
      "2    c\n",
      "dtype: object\n",
      "\n",
      "Holding functions\n",
      "--------------------\n",
      "0      <built-in function sum>\n",
      "1    <built-in function print>\n",
      "2      <built-in function len>\n",
      "dtype: object\n",
      "\n",
      "Holding objects from a dictionary\n",
      "--------------------------------------------------\n",
      "0    <built-in method keys of dict object at 0x7f6a...\n",
      "1    <built-in method items of dict object at 0x7f6...\n",
      "2    <built-in method values of dict object at 0x7f...\n",
      "dtype: object\n"
     ]
    }
   ],
   "source": [
    "print (\"\\nHolding numerical data\\n\",'-'*25, sep='')\n",
    "print(pd.Series(arr))\n",
    "print (\"\\nHolding text labels\\n\",'-'*20, sep='')\n",
    "print(pd.Series(labels))\n",
    "print (\"\\nHolding functions\\n\",'-'*20, sep='')\n",
    "print(pd.Series(data=[sum,print,len]))\n",
    "print (\"\\nHolding objects from a dictionary\\n\",'-'*50, sep='')\n",
    "print(pd.Series(data=[d.keys, d.items, d.values]))"
   ]
  },
  {
   "cell_type": "markdown",
   "metadata": {},
   "source": [
    "### Operations in Series\n",
    "\n",
    "We can perform multiple mathematical operations on series such as _sum_, _mean_, _absolute_ etc."
   ]
  },
  {
   "cell_type": "code",
   "execution_count": null,
   "metadata": {},
   "outputs": [],
   "source": []
  },
  {
   "cell_type": "code",
   "execution_count": null,
   "metadata": {},
   "outputs": [],
   "source": []
  },
  {
   "cell_type": "markdown",
   "metadata": {},
   "source": [
    "---\n",
    "### DataFrame\n",
    "\n",
    "**DataFrame** is a 2-dimensional labeled data structure with columns of potentially different types. You can think of it like a spreadsheet or SQL table, or a dict of Series objects. It is generally the most commonly used pandas object. Like Series, DataFrame accepts many different kinds of input:\n",
    "\n",
    "* Dict of 1D ndarrays, lists, dicts, or Series\n",
    "* 2-D numpy.ndarray\n",
    "* Structured or record ndarray\n",
    "* A Series\n",
    "* Another DataFrame\n",
    "\n",
    "Along with the data, you can optionally pass **index** (row labels) and **columns** (column labels) arguments. If you pass an index and / or columns, you are guaranteeing the index and / or columns of the resulting DataFrame. Thus, a dict of Series plus a specific index will discard all data not matching up to the passed index.\n",
    "\n",
    "If axis labels are not passed, they will be constructed from the input data based on common sense rules."
   ]
  },
  {
   "cell_type": "code",
   "execution_count": 8,
   "metadata": {},
   "outputs": [
    {
     "name": "stdout",
     "output_type": "stream",
     "text": [
      "\n",
      "The data frame looks like\n",
      "---------------------------------------------\n",
      "   W  X  Y  Z\n",
      "A  8  8  3  4\n",
      "B  5  1  3  4\n",
      "C  7  6  1  7\n",
      "D  1  2  6  5\n",
      "E  4  4  9  5\n"
     ]
    }
   ],
   "source": [
    "matrix_data = np.random.randint(1,10,size=20).reshape(5,4)\n",
    "row_labels = ['A','B','C','D','E']\n",
    "column_headings = ['W','X','Y','Z']\n",
    "\n",
    "df = pd.DataFrame(data=matrix_data, index=row_labels, columns=column_headings)\n",
    "print(\"\\nThe data frame looks like\\n\",'-'*45, sep='')\n",
    "print(df)"
   ]
  },
  {
   "cell_type": "code",
   "execution_count": 9,
   "metadata": {},
   "outputs": [
    {
     "name": "stdout",
     "output_type": "stream",
     "text": [
      "    a   b   c\n",
      "X  10  30  50\n",
      "Y  20  40  60\n"
     ]
    }
   ],
   "source": [
    "d={'a':[10,20],'b':[30,40],'c':[50,60]}\n",
    "df2=pd.DataFrame(data=d,index=['X','Y'])\n",
    "print(df2)"
   ]
  },
  {
   "cell_type": "code",
   "execution_count": 10,
   "metadata": {},
   "outputs": [],
   "source": [
    "# 25 rows and 4 columns\n",
    "matrix_data = np.random.randint(1,100,100).reshape(25,4)\n",
    "column_headings = ['W','X','Y','Z']\n",
    "df = pd.DataFrame(data=matrix_data,columns=column_headings)"
   ]
  },
  {
   "cell_type": "code",
   "execution_count": 11,
   "metadata": {},
   "outputs": [
    {
     "data": {
      "text/html": [
       "<div>\n",
       "<style scoped>\n",
       "    .dataframe tbody tr th:only-of-type {\n",
       "        vertical-align: middle;\n",
       "    }\n",
       "\n",
       "    .dataframe tbody tr th {\n",
       "        vertical-align: top;\n",
       "    }\n",
       "\n",
       "    .dataframe thead th {\n",
       "        text-align: right;\n",
       "    }\n",
       "</style>\n",
       "<table border=\"1\" class=\"dataframe\">\n",
       "  <thead>\n",
       "    <tr style=\"text-align: right;\">\n",
       "      <th></th>\n",
       "      <th>W</th>\n",
       "      <th>X</th>\n",
       "      <th>Y</th>\n",
       "      <th>Z</th>\n",
       "    </tr>\n",
       "  </thead>\n",
       "  <tbody>\n",
       "    <tr>\n",
       "      <th>0</th>\n",
       "      <td>90</td>\n",
       "      <td>59</td>\n",
       "      <td>43</td>\n",
       "      <td>47</td>\n",
       "    </tr>\n",
       "    <tr>\n",
       "      <th>1</th>\n",
       "      <td>67</td>\n",
       "      <td>6</td>\n",
       "      <td>88</td>\n",
       "      <td>99</td>\n",
       "    </tr>\n",
       "    <tr>\n",
       "      <th>2</th>\n",
       "      <td>7</td>\n",
       "      <td>46</td>\n",
       "      <td>72</td>\n",
       "      <td>60</td>\n",
       "    </tr>\n",
       "    <tr>\n",
       "      <th>3</th>\n",
       "      <td>14</td>\n",
       "      <td>55</td>\n",
       "      <td>75</td>\n",
       "      <td>95</td>\n",
       "    </tr>\n",
       "    <tr>\n",
       "      <th>4</th>\n",
       "      <td>26</td>\n",
       "      <td>79</td>\n",
       "      <td>36</td>\n",
       "      <td>75</td>\n",
       "    </tr>\n",
       "  </tbody>\n",
       "</table>\n",
       "</div>"
      ],
      "text/plain": [
       "    W   X   Y   Z\n",
       "0  90  59  43  47\n",
       "1  67   6  88  99\n",
       "2   7  46  72  60\n",
       "3  14  55  75  95\n",
       "4  26  79  36  75"
      ]
     },
     "execution_count": 11,
     "metadata": {},
     "output_type": "execute_result"
    }
   ],
   "source": [
    "df.head()"
   ]
  },
  {
   "cell_type": "code",
   "execution_count": 12,
   "metadata": {},
   "outputs": [
    {
     "data": {
      "text/html": [
       "<div>\n",
       "<style scoped>\n",
       "    .dataframe tbody tr th:only-of-type {\n",
       "        vertical-align: middle;\n",
       "    }\n",
       "\n",
       "    .dataframe tbody tr th {\n",
       "        vertical-align: top;\n",
       "    }\n",
       "\n",
       "    .dataframe thead th {\n",
       "        text-align: right;\n",
       "    }\n",
       "</style>\n",
       "<table border=\"1\" class=\"dataframe\">\n",
       "  <thead>\n",
       "    <tr style=\"text-align: right;\">\n",
       "      <th></th>\n",
       "      <th>W</th>\n",
       "      <th>X</th>\n",
       "      <th>Y</th>\n",
       "      <th>Z</th>\n",
       "    </tr>\n",
       "  </thead>\n",
       "  <tbody>\n",
       "    <tr>\n",
       "      <th>20</th>\n",
       "      <td>90</td>\n",
       "      <td>27</td>\n",
       "      <td>35</td>\n",
       "      <td>41</td>\n",
       "    </tr>\n",
       "    <tr>\n",
       "      <th>21</th>\n",
       "      <td>17</td>\n",
       "      <td>67</td>\n",
       "      <td>53</td>\n",
       "      <td>39</td>\n",
       "    </tr>\n",
       "    <tr>\n",
       "      <th>22</th>\n",
       "      <td>86</td>\n",
       "      <td>47</td>\n",
       "      <td>92</td>\n",
       "      <td>20</td>\n",
       "    </tr>\n",
       "    <tr>\n",
       "      <th>23</th>\n",
       "      <td>90</td>\n",
       "      <td>87</td>\n",
       "      <td>19</td>\n",
       "      <td>11</td>\n",
       "    </tr>\n",
       "    <tr>\n",
       "      <th>24</th>\n",
       "      <td>18</td>\n",
       "      <td>9</td>\n",
       "      <td>55</td>\n",
       "      <td>99</td>\n",
       "    </tr>\n",
       "  </tbody>\n",
       "</table>\n",
       "</div>"
      ],
      "text/plain": [
       "     W   X   Y   Z\n",
       "20  90  27  35  41\n",
       "21  17  67  53  39\n",
       "22  86  47  92  20\n",
       "23  90  87  19  11\n",
       "24  18   9  55  99"
      ]
     },
     "execution_count": 12,
     "metadata": {},
     "output_type": "execute_result"
    }
   ],
   "source": [
    "df.tail()"
   ]
  },
  {
   "cell_type": "code",
   "execution_count": 13,
   "metadata": {},
   "outputs": [
    {
     "name": "stdout",
     "output_type": "stream",
     "text": [
      "\n",
      "The 'X' column\n",
      "-------------------------\n",
      "0     59\n",
      "1      6\n",
      "2     46\n",
      "3     55\n",
      "4     79\n",
      "5     56\n",
      "6     94\n",
      "7     25\n",
      "8     65\n",
      "9     70\n",
      "10    37\n",
      "11    33\n",
      "12    62\n",
      "13    34\n",
      "14    32\n",
      "15    85\n",
      "16    48\n",
      "17    47\n",
      "18    73\n",
      "19    51\n",
      "20    27\n",
      "21    67\n",
      "22    47\n",
      "23    87\n",
      "24     9\n",
      "Name: X, dtype: int64\n",
      "\n",
      "Type of the column: <class 'pandas.core.series.Series'>\n",
      "\n",
      "The 'X' and 'Z' columns indexed by passing a list\n",
      "-------------------------------------------------------\n",
      "     X   Z\n",
      "0   59  47\n",
      "1    6  99\n",
      "2   46  60\n",
      "3   55  95\n",
      "4   79  75\n",
      "5   56  31\n",
      "6   94  39\n",
      "7   25  36\n",
      "8   65  46\n",
      "9   70  88\n",
      "10  37  96\n",
      "11  33  11\n",
      "12  62  56\n",
      "13  34  83\n",
      "14  32  97\n",
      "15  85  84\n",
      "16  48  69\n",
      "17  47  38\n",
      "18  73  35\n",
      "19  51   9\n",
      "20  27  41\n",
      "21  67  39\n",
      "22  47  20\n",
      "23  87  11\n",
      "24   9  99\n",
      "\n",
      "Type of the pair of columns: <class 'pandas.core.frame.DataFrame'>\n"
     ]
    }
   ],
   "source": [
    "print(\"\\nThe 'X' column\\n\",'-'*25, sep='')\n",
    "print(df['X'])\n",
    "print(\"\\nType of the column: \", type(df['X']), sep='')\n",
    "print(\"\\nThe 'X' and 'Z' columns indexed by passing a list\\n\",'-'*55, sep='')\n",
    "print(df[['X','Z']])\n",
    "print(\"\\nType of the pair of columns: \", type(df[['X','Z']]), sep='')"
   ]
  },
  {
   "cell_type": "code",
   "execution_count": 14,
   "metadata": {},
   "outputs": [
    {
     "name": "stdout",
     "output_type": "stream",
     "text": [
      "\n",
      "Label-based 'loc' method can be used for selecting row(s)\n",
      "------------------------------------------------------------\n",
      "\n",
      "Single row\n",
      "\n",
      "W    4\n",
      "X    8\n",
      "Y    9\n",
      "Z    9\n",
      "Name: C, dtype: int64\n",
      "\n",
      "Multiple rows\n",
      "\n",
      "   W  X  Y  Z\n",
      "B  6  3  6  5\n",
      "C  4  8  9  9\n",
      "\n",
      "Index position based 'iloc' method can be used for selecting row(s)\n",
      "----------------------------------------------------------------------\n",
      "\n",
      "Single row\n",
      "\n",
      "W    4\n",
      "X    8\n",
      "Y    9\n",
      "Z    9\n",
      "Name: C, dtype: int64\n",
      "\n",
      "Multiple rows\n",
      "\n",
      "   W  X  Y  Z\n",
      "B  6  3  6  5\n",
      "C  4  8  9  9\n"
     ]
    }
   ],
   "source": [
    "matrix_data = np.random.randint(1,10,size=20).reshape(5,4)\n",
    "row_labels = ['A','B','C','D','E']\n",
    "column_headings = ['W','X','Y','Z']\n",
    "\n",
    "df = pd.DataFrame(data=matrix_data, index=row_labels, columns=column_headings)\n",
    "print(\"\\nLabel-based 'loc' method can be used for selecting row(s)\\n\",'-'*60, sep='')\n",
    "print(\"\\nSingle row\\n\")\n",
    "print(df.loc['C'])\n",
    "print(\"\\nMultiple rows\\n\")\n",
    "print(df.loc[['B','C']])\n",
    "print(\"\\nIndex position based 'iloc' method can be used for selecting row(s)\\n\",'-'*70, sep='')\n",
    "print(\"\\nSingle row\\n\")\n",
    "print(df.iloc[2])\n",
    "print(\"\\nMultiple rows\\n\")\n",
    "print(df.iloc[[1,2]])"
   ]
  },
  {
   "cell_type": "code",
   "execution_count": 15,
   "metadata": {},
   "outputs": [
    {
     "name": "stdout",
     "output_type": "stream",
     "text": [
      "\n",
      "A column is created by assigning it in relation to an existing column\n",
      "---------------------------------------------------------------------------\n",
      "   W  X  Y  Z  New  New (Sum of X and Z)\n",
      "A  1  6  8  5   11                    11\n",
      "B  6  3  6  5    8                     8\n",
      "C  4  8  9  9   17                    17\n",
      "D  4  3  4  3    6                     6\n",
      "E  9  8  8  3   11                    11\n",
      "\n",
      "A column is dropped by using df.drop() method\n",
      "-------------------------------------------------------\n",
      "   W  X  Y  Z  New (Sum of X and Z)\n",
      "A  1  6  8  5                    11\n",
      "B  6  3  6  5                     8\n",
      "C  4  8  9  9                    17\n",
      "D  4  3  4  3                     6\n",
      "E  9  8  8  3                    11\n",
      "\n",
      "A row (index) is dropped by using df.drop() method and axis=0\n",
      "-----------------------------------------------------------------\n",
      "   W  X  Y  Z  New (Sum of X and Z)\n",
      "B  6  3  6  5                     8\n",
      "C  4  8  9  9                    17\n",
      "D  4  3  4  3                     6\n",
      "E  9  8  8  3                    11\n",
      "\n",
      "An in-place change can be done by making inplace=True in the drop method\n",
      "---------------------------------------------------------------------------\n",
      "   W  X  Y  Z\n",
      "A  1  6  8  5\n",
      "B  6  3  6  5\n",
      "C  4  8  9  9\n",
      "D  4  3  4  3\n",
      "E  9  8  8  3\n"
     ]
    }
   ],
   "source": [
    "print(\"\\nA column is created by assigning it in relation to an existing column\\n\",'-'*75, sep='')\n",
    "df['New'] = df['X']+df['Z']\n",
    "df['New (Sum of X and Z)'] = df['X']+df['Z']\n",
    "print(df)\n",
    "print(\"\\nA column is dropped by using df.drop() method\\n\",'-'*55, sep='')\n",
    "df = df.drop('New', axis=1) # Notice the axis=1 option, axis = 0 is default, so one has to change it to 1\n",
    "print(df)\n",
    "df1=df.drop('A')\n",
    "print(\"\\nA row (index) is dropped by using df.drop() method and axis=0\\n\",'-'*65, sep='')\n",
    "print(df1)\n",
    "print(\"\\nAn in-place change can be done by making inplace=True in the drop method\\n\",'-'*75, sep='')\n",
    "df.drop('New (Sum of X and Z)', axis=1, inplace=True)\n",
    "print(df)"
   ]
  },
  {
   "cell_type": "code",
   "execution_count": null,
   "metadata": {},
   "outputs": [],
   "source": []
  }
 ],
 "metadata": {
  "kernelspec": {
   "display_name": "Python 3",
   "language": "python",
   "name": "python3"
  },
  "language_info": {
   "codemirror_mode": {
    "name": "ipython",
    "version": 3
   },
   "file_extension": ".py",
   "mimetype": "text/x-python",
   "name": "python",
   "nbconvert_exporter": "python",
   "pygments_lexer": "ipython3",
   "version": "3.6.7"
  }
 },
 "nbformat": 4,
 "nbformat_minor": 2
}
